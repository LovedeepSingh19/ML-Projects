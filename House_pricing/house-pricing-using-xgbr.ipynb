{
 "cells": [
  {
   "cell_type": "code",
   "execution_count": 1,
   "id": "c716ace2",
   "metadata": {
    "execution": {
     "iopub.execute_input": "2022-02-08T08:56:19.675764Z",
     "iopub.status.busy": "2022-02-08T08:56:19.675065Z",
     "iopub.status.idle": "2022-02-08T08:56:21.438644Z",
     "shell.execute_reply": "2022-02-08T08:56:21.437502Z",
     "shell.execute_reply.started": "2022-02-08T08:51:00.019023Z"
    },
    "papermill": {
     "duration": 1.78979,
     "end_time": "2022-02-08T08:56:21.438881",
     "exception": false,
     "start_time": "2022-02-08T08:56:19.649091",
     "status": "completed"
    },
    "tags": []
   },
   "outputs": [],
   "source": [
    "import warnings\n",
    "\n",
    "import matplotlib.pyplot as plt\n",
    "import numpy as np\n",
    "import pandas as pd\n",
    "import seaborn as sns\n",
    "\n",
    "from sklearn.cluster import KMeans\n",
    "from sklearn.decomposition import PCA\n",
    "from sklearn.feature_selection import mutual_info_regression\n",
    "from sklearn.preprocessing import LabelEncoder\n",
    "from sklearn.model_selection import KFold, cross_val_score\n",
    "from xgboost import XGBRegressor"
   ]
  },
  {
   "cell_type": "code",
   "execution_count": 2,
   "id": "1e65bdf9",
   "metadata": {
    "execution": {
     "iopub.execute_input": "2022-02-08T08:56:21.470637Z",
     "iopub.status.busy": "2022-02-08T08:56:21.469542Z",
     "iopub.status.idle": "2022-02-08T08:56:21.471651Z",
     "shell.execute_reply": "2022-02-08T08:56:21.472321Z",
     "shell.execute_reply.started": "2022-02-08T08:51:02.255308Z"
    },
    "papermill": {
     "duration": 0.021078,
     "end_time": "2022-02-08T08:56:21.472542",
     "exception": false,
     "start_time": "2022-02-08T08:56:21.451464",
     "status": "completed"
    },
    "tags": []
   },
   "outputs": [],
   "source": [
    "# Set Matplotlib defaults\n",
    "plt.style.use(\"seaborn-whitegrid\")\n",
    "plt.rc(\"figure\", autolayout=True)\n",
    "plt.rc(\n",
    "    \"axes\",\n",
    "    labelweight=\"bold\",\n",
    "    labelsize=\"large\",\n",
    "    titleweight=\"bold\",\n",
    "    titlesize=14,\n",
    "    titlepad=10)\n",
    "\n",
    "warnings.filterwarnings('ignore')"
   ]
  },
  {
   "cell_type": "code",
   "execution_count": 3,
   "id": "01382668",
   "metadata": {
    "execution": {
     "iopub.execute_input": "2022-02-08T08:56:21.500812Z",
     "iopub.status.busy": "2022-02-08T08:56:21.499717Z",
     "iopub.status.idle": "2022-02-08T08:56:21.505792Z",
     "shell.execute_reply": "2022-02-08T08:56:21.506372Z",
     "shell.execute_reply.started": "2022-02-08T08:51:03.824214Z"
    },
    "papermill": {
     "duration": 0.022144,
     "end_time": "2022-02-08T08:56:21.506569",
     "exception": false,
     "start_time": "2022-02-08T08:56:21.484425",
     "status": "completed"
    },
    "tags": []
   },
   "outputs": [],
   "source": [
    "def load_data():\n",
    "    df_train = pd.read_csv(\"../input/house-prices-advanced-regression-techniques/train.csv\", index_col=\"Id\")\n",
    "    df_test = pd.read_csv(\"../input/house-prices-advanced-regression-techniques/test.csv\", index_col=\"Id\")\n",
    "    df = pd.concat([df_train, df_test])\n",
    "    # Reform splits\n",
    "    df_train = df.loc[df_train.index, :]\n",
    "    df_test = df.loc[df_test.index, :]\n",
    "    return df_train, df_test"
   ]
  },
  {
   "cell_type": "code",
   "execution_count": 4,
   "id": "ab7eb6f6",
   "metadata": {
    "execution": {
     "iopub.execute_input": "2022-02-08T08:56:21.533522Z",
     "iopub.status.busy": "2022-02-08T08:56:21.532469Z",
     "iopub.status.idle": "2022-02-08T08:56:21.651227Z",
     "shell.execute_reply": "2022-02-08T08:56:21.650442Z",
     "shell.execute_reply.started": "2022-02-08T08:51:03.988139Z"
    },
    "papermill": {
     "duration": 0.133137,
     "end_time": "2022-02-08T08:56:21.651394",
     "exception": false,
     "start_time": "2022-02-08T08:56:21.518257",
     "status": "completed"
    },
    "tags": []
   },
   "outputs": [],
   "source": [
    "df_train, df_test = load_data()"
   ]
  },
  {
   "cell_type": "code",
   "execution_count": 5,
   "id": "668e1290",
   "metadata": {
    "execution": {
     "iopub.execute_input": "2022-02-08T08:56:21.692178Z",
     "iopub.status.busy": "2022-02-08T08:56:21.677752Z",
     "iopub.status.idle": "2022-02-08T08:56:21.694764Z",
     "shell.execute_reply": "2022-02-08T08:56:21.695344Z",
     "shell.execute_reply.started": "2022-02-08T08:51:04.628425Z"
    },
    "papermill": {
     "duration": 0.032804,
     "end_time": "2022-02-08T08:56:21.695531",
     "exception": false,
     "start_time": "2022-02-08T08:56:21.662727",
     "status": "completed"
    },
    "tags": []
   },
   "outputs": [],
   "source": [
    "def preprocess(df):\n",
    "    categorical_cols = [\"LotConfig\",\"LotArea\",\"LandSlope\",\"Neighborhood\",\"Condition1\",\n",
    "                   \"Condition2\",\"BldgType\",\"HouseStyle\",\"RoofStyle\",\"RoofMatl\",\n",
    "                   \"Exterior1st\",\"Exterior2nd\",\"MasVnrType\",\"ExterQual\",\"ExterCond\",\n",
    "                    \"Foundation\",\"BsmtQual\",\"BsmtCond\",\"BsmtExposure\",\"BsmtFinType1\",\n",
    "                   \"BsmtFinSF1\",\"BsmtFinType2\",\"BsmtFinSF2\",\"BsmtUnfSF\",\n",
    "                    \"TotalBsmtSF\",\"Heating\",\"HeatingQC\",\"CentralAir\",\"Utilities\",\n",
    "                    \"Electrical\",\"KitchenQual\",\"Functional\",\"PavedDrive\",\"SaleType\",\n",
    "                    \"GarageType\",\"GarageFinish\",\"GarageQual\",\"GarageCond\",\n",
    "                    \"SaleCondition\",\"MSZoning\",\"LotShape\",\"Street\",\"LandContour\"]\n",
    "    df['MasVnrType'].fillna('None', inplace=True)\n",
    "    df['BsmtQual'].fillna('None', inplace=True)\n",
    "    df['BsmtCond'].fillna('None', inplace=True)\n",
    "    df['BsmtExposure'].fillna('None', inplace=True)\n",
    "    df['BsmtFinType1'].fillna('None', inplace=True)\n",
    "    df['BsmtFinType2'].fillna('None', inplace=True)\n",
    "    df['Electrical'].fillna('None', inplace=True)\n",
    "    df['GarageType'].fillna('None', inplace=True)\n",
    "    df['GarageFinish'].fillna('None', inplace=True)\n",
    "    df['GarageQual'].fillna('None', inplace=True)\n",
    "    df['GarageCond'].fillna('None', inplace=True)\n",
    "    df['Exterior1st'].fillna('None', inplace=True)\n",
    "    df['Exterior2nd'].fillna('None', inplace=True)\n",
    "    df['Utilities'].fillna('None', inplace=True)\n",
    "    df['Electrical'].fillna('None', inplace=True)\n",
    "    df['KitchenQual'].fillna('None', inplace=True)\n",
    "    df['Functional'].fillna('None', inplace=True)\n",
    "    df['SaleType'].fillna('None', inplace=True)\n",
    "    df['MSZoning'].fillna('None', inplace=True)\n",
    "    df['LotArea'] = np.log1p(df['LotArea'])\n",
    "    df['LotFrontage'].fillna(np.mean(df['LotFrontage']), inplace=True)\n",
    "    df['MasVnrArea'].fillna(0, inplace=True)\n",
    "    df['GarageYrBlt'].fillna(df['YearBuilt'], inplace=True)\n",
    "    \n",
    "    for col in categorical_cols:\n",
    "        encoder = LabelEncoder()\n",
    "        df[col] = encoder.fit_transform(df[col])\n",
    "\n",
    "    df['MasVnrArea'] = df['MasVnrArea'].astype(int)\n",
    "    return df"
   ]
  },
  {
   "cell_type": "code",
   "execution_count": 6,
   "id": "5b26fffd",
   "metadata": {
    "execution": {
     "iopub.execute_input": "2022-02-08T08:56:21.741083Z",
     "iopub.status.busy": "2022-02-08T08:56:21.739989Z",
     "iopub.status.idle": "2022-02-08T08:56:21.820532Z",
     "shell.execute_reply": "2022-02-08T08:56:21.819897Z",
     "shell.execute_reply.started": "2022-02-08T08:51:05.057562Z"
    },
    "papermill": {
     "duration": 0.114295,
     "end_time": "2022-02-08T08:56:21.820700",
     "exception": false,
     "start_time": "2022-02-08T08:56:21.706405",
     "status": "completed"
    },
    "tags": []
   },
   "outputs": [],
   "source": [
    "df_test = preprocess(df_test)\n",
    "df_train = preprocess(df_train)"
   ]
  },
  {
   "cell_type": "code",
   "execution_count": 7,
   "id": "5b5589b2",
   "metadata": {
    "execution": {
     "iopub.execute_input": "2022-02-08T08:56:21.848378Z",
     "iopub.status.busy": "2022-02-08T08:56:21.847608Z",
     "iopub.status.idle": "2022-02-08T08:56:21.852594Z",
     "shell.execute_reply": "2022-02-08T08:56:21.853310Z",
     "shell.execute_reply.started": "2022-02-08T08:51:05.857189Z"
    },
    "papermill": {
     "duration": 0.021959,
     "end_time": "2022-02-08T08:56:21.853547",
     "exception": false,
     "start_time": "2022-02-08T08:56:21.831588",
     "status": "completed"
    },
    "tags": []
   },
   "outputs": [],
   "source": [
    "df_test = df_test.drop(columns='SalePrice')"
   ]
  },
  {
   "cell_type": "code",
   "execution_count": 8,
   "id": "728f41e2",
   "metadata": {
    "execution": {
     "iopub.execute_input": "2022-02-08T08:56:21.885680Z",
     "iopub.status.busy": "2022-02-08T08:56:21.884451Z",
     "iopub.status.idle": "2022-02-08T08:56:21.891090Z",
     "shell.execute_reply": "2022-02-08T08:56:21.890278Z",
     "shell.execute_reply.started": "2022-02-08T08:51:06.463151Z"
    },
    "papermill": {
     "duration": 0.025641,
     "end_time": "2022-02-08T08:56:21.891294",
     "exception": false,
     "start_time": "2022-02-08T08:56:21.865653",
     "status": "completed"
    },
    "tags": []
   },
   "outputs": [],
   "source": [
    "null_dominant_cols = [\"Alley\",\"PoolQC\",\"Fence\",\"MiscFeature\",\"FireplaceQu\"]\n",
    "df_train.drop(columns=null_dominant_cols, inplace=True)\n",
    "df_test.drop(columns=null_dominant_cols, inplace=True)"
   ]
  },
  {
   "cell_type": "code",
   "execution_count": 9,
   "id": "3d0e7178",
   "metadata": {
    "execution": {
     "iopub.execute_input": "2022-02-08T08:56:21.926927Z",
     "iopub.status.busy": "2022-02-08T08:56:21.926081Z",
     "iopub.status.idle": "2022-02-08T08:56:22.861938Z",
     "shell.execute_reply": "2022-02-08T08:56:22.863026Z",
     "shell.execute_reply.started": "2022-02-08T08:51:06.886959Z"
    },
    "papermill": {
     "duration": 0.96023,
     "end_time": "2022-02-08T08:56:22.863286",
     "exception": false,
     "start_time": "2022-02-08T08:56:21.903056",
     "status": "completed"
    },
    "tags": []
   },
   "outputs": [
    {
     "name": "stdout",
     "output_type": "stream",
     "text": [
      "[08:56:21] WARNING: ../src/learner.cc:576: \n",
      "Parameters: { \"metric\", \"min_child_samples\" } might not be used.\n",
      "\n",
      "  This could be a false alarm, with some parameters getting used by language bindings but\n",
      "  then being mistakenly passed down to XGBoost core, or some parameter actually being used\n",
      "  but getting flagged wrongly here. Please open an issue if you find any such cases.\n",
      "\n",
      "\n",
      "[08:56:21] DEBUG: ../src/gbm/gbtree.cc:155: Using tree method: 2\n",
      "[08:56:21] INFO: ../src/tree/updater_prune.cc:101: tree pruning end, 0 extra nodes, 0 pruned nodes, max_depth=0\n",
      "[08:56:21] INFO: ../src/tree/updater_prune.cc:101: tree pruning end, 2 extra nodes, 0 pruned nodes, max_depth=1\n",
      "[08:56:21] INFO: ../src/tree/updater_prune.cc:101: tree pruning end, 2 extra nodes, 0 pruned nodes, max_depth=1\n",
      "[08:56:21] INFO: ../src/tree/updater_prune.cc:101: tree pruning end, 4 extra nodes, 0 pruned nodes, max_depth=2\n",
      "[08:56:21] INFO: ../src/tree/updater_prune.cc:101: tree pruning end, 8 extra nodes, 0 pruned nodes, max_depth=3\n",
      "[08:56:21] INFO: ../src/tree/updater_prune.cc:101: tree pruning end, 10 extra nodes, 0 pruned nodes, max_depth=4\n",
      "[08:56:21] INFO: ../src/tree/updater_prune.cc:101: tree pruning end, 26 extra nodes, 0 pruned nodes, max_depth=5\n",
      "[08:56:21] INFO: ../src/tree/updater_prune.cc:101: tree pruning end, 30 extra nodes, 0 pruned nodes, max_depth=6\n",
      "[08:56:22] INFO: ../src/tree/updater_prune.cc:101: tree pruning end, 60 extra nodes, 0 pruned nodes, max_depth=7\n",
      "[08:56:22] INFO: ../src/tree/updater_prune.cc:101: tree pruning end, 104 extra nodes, 0 pruned nodes, max_depth=10\n",
      "[08:56:22] INFO: ../src/tree/updater_prune.cc:101: tree pruning end, 186 extra nodes, 0 pruned nodes, max_depth=15\n",
      "[08:56:22] INFO: ../src/tree/updater_prune.cc:101: tree pruning end, 292 extra nodes, 0 pruned nodes, max_depth=15\n",
      "[08:56:22] INFO: ../src/tree/updater_prune.cc:101: tree pruning end, 452 extra nodes, 0 pruned nodes, max_depth=23\n",
      "[08:56:22] INFO: ../src/tree/updater_prune.cc:101: tree pruning end, 588 extra nodes, 0 pruned nodes, max_depth=24\n",
      "[08:56:22] INFO: ../src/tree/updater_prune.cc:101: tree pruning end, 654 extra nodes, 0 pruned nodes, max_depth=23\n",
      "[08:56:22] INFO: ../src/tree/updater_prune.cc:101: tree pruning end, 718 extra nodes, 0 pruned nodes, max_depth=27\n",
      "[08:56:22] INFO: ../src/tree/updater_prune.cc:101: tree pruning end, 770 extra nodes, 0 pruned nodes, max_depth=26\n",
      "[08:56:22] INFO: ../src/tree/updater_prune.cc:101: tree pruning end, 772 extra nodes, 0 pruned nodes, max_depth=26\n",
      "[08:56:22] INFO: ../src/tree/updater_prune.cc:101: tree pruning end, 864 extra nodes, 0 pruned nodes, max_depth=30\n",
      "[08:56:22] INFO: ../src/tree/updater_prune.cc:101: tree pruning end, 850 extra nodes, 0 pruned nodes, max_depth=27\n",
      "[08:56:22] INFO: ../src/tree/updater_prune.cc:101: tree pruning end, 832 extra nodes, 0 pruned nodes, max_depth=24\n",
      "[08:56:22] INFO: ../src/tree/updater_prune.cc:101: tree pruning end, 878 extra nodes, 0 pruned nodes, max_depth=24\n",
      "[08:56:22] INFO: ../src/tree/updater_prune.cc:101: tree pruning end, 872 extra nodes, 0 pruned nodes, max_depth=29\n",
      "[08:56:22] INFO: ../src/tree/updater_prune.cc:101: tree pruning end, 906 extra nodes, 0 pruned nodes, max_depth=28\n",
      "[08:56:22] INFO: ../src/tree/updater_prune.cc:101: tree pruning end, 874 extra nodes, 0 pruned nodes, max_depth=26\n",
      "[08:56:22] INFO: ../src/tree/updater_prune.cc:101: tree pruning end, 804 extra nodes, 0 pruned nodes, max_depth=30\n",
      "[08:56:22] INFO: ../src/tree/updater_prune.cc:101: tree pruning end, 748 extra nodes, 0 pruned nodes, max_depth=25\n",
      "[08:56:22] INFO: ../src/tree/updater_prune.cc:101: tree pruning end, 714 extra nodes, 0 pruned nodes, max_depth=25\n",
      "[08:56:22] INFO: ../src/tree/updater_prune.cc:101: tree pruning end, 674 extra nodes, 0 pruned nodes, max_depth=22\n",
      "[08:56:22] INFO: ../src/tree/updater_prune.cc:101: tree pruning end, 576 extra nodes, 0 pruned nodes, max_depth=24\n",
      "[08:56:22] INFO: ../src/tree/updater_prune.cc:101: tree pruning end, 538 extra nodes, 0 pruned nodes, max_depth=23\n",
      "[08:56:22] INFO: ../src/tree/updater_prune.cc:101: tree pruning end, 454 extra nodes, 0 pruned nodes, max_depth=24\n",
      "[08:56:22] INFO: ../src/tree/updater_prune.cc:101: tree pruning end, 390 extra nodes, 0 pruned nodes, max_depth=23\n",
      "[08:56:22] INFO: ../src/tree/updater_prune.cc:101: tree pruning end, 350 extra nodes, 0 pruned nodes, max_depth=27\n",
      "[08:56:22] INFO: ../src/tree/updater_prune.cc:101: tree pruning end, 254 extra nodes, 0 pruned nodes, max_depth=20\n",
      "[08:56:22] INFO: ../src/tree/updater_prune.cc:101: tree pruning end, 226 extra nodes, 0 pruned nodes, max_depth=20\n",
      "[08:56:22] INFO: ../src/tree/updater_prune.cc:101: tree pruning end, 210 extra nodes, 0 pruned nodes, max_depth=17\n",
      "[08:56:22] INFO: ../src/tree/updater_prune.cc:101: tree pruning end, 158 extra nodes, 0 pruned nodes, max_depth=19\n",
      "[08:56:22] INFO: ../src/tree/updater_prune.cc:101: tree pruning end, 112 extra nodes, 0 pruned nodes, max_depth=16\n",
      "[08:56:22] INFO: ../src/tree/updater_prune.cc:101: tree pruning end, 92 extra nodes, 0 pruned nodes, max_depth=13\n",
      "[08:56:22] INFO: ../src/tree/updater_prune.cc:101: tree pruning end, 92 extra nodes, 0 pruned nodes, max_depth=14\n",
      "[08:56:22] INFO: ../src/tree/updater_prune.cc:101: tree pruning end, 44 extra nodes, 0 pruned nodes, max_depth=11\n",
      "[08:56:22] INFO: ../src/tree/updater_prune.cc:101: tree pruning end, 18 extra nodes, 0 pruned nodes, max_depth=6\n",
      "[08:56:22] INFO: ../src/tree/updater_prune.cc:101: tree pruning end, 6 extra nodes, 0 pruned nodes, max_depth=3\n",
      "[08:56:22] INFO: ../src/tree/updater_prune.cc:101: tree pruning end, 6 extra nodes, 0 pruned nodes, max_depth=3\n",
      "[08:56:22] INFO: ../src/tree/updater_prune.cc:101: tree pruning end, 6 extra nodes, 0 pruned nodes, max_depth=3\n",
      "[08:56:22] INFO: ../src/tree/updater_prune.cc:101: tree pruning end, 2 extra nodes, 0 pruned nodes, max_depth=1\n",
      "[08:56:22] INFO: ../src/tree/updater_prune.cc:101: tree pruning end, 2 extra nodes, 0 pruned nodes, max_depth=1\n",
      "[08:56:22] INFO: ../src/tree/updater_prune.cc:101: tree pruning end, 0 extra nodes, 0 pruned nodes, max_depth=0\n",
      "[08:56:22] INFO: ../src/tree/updater_prune.cc:101: tree pruning end, 0 extra nodes, 0 pruned nodes, max_depth=0\n",
      "[08:56:22] INFO: ../src/tree/updater_prune.cc:101: tree pruning end, 0 extra nodes, 0 pruned nodes, max_depth=0\n",
      "[08:56:22] INFO: ../src/tree/updater_prune.cc:101: tree pruning end, 0 extra nodes, 0 pruned nodes, max_depth=0\n",
      "[08:56:22] INFO: ../src/tree/updater_prune.cc:101: tree pruning end, 0 extra nodes, 0 pruned nodes, max_depth=0\n",
      "[08:56:22] INFO: ../src/tree/updater_prune.cc:101: tree pruning end, 0 extra nodes, 0 pruned nodes, max_depth=0\n",
      "[08:56:22] INFO: ../src/tree/updater_prune.cc:101: tree pruning end, 0 extra nodes, 0 pruned nodes, max_depth=0\n",
      "[08:56:22] INFO: ../src/tree/updater_prune.cc:101: tree pruning end, 0 extra nodes, 0 pruned nodes, max_depth=0\n",
      "[08:56:22] INFO: ../src/tree/updater_prune.cc:101: tree pruning end, 0 extra nodes, 0 pruned nodes, max_depth=0\n",
      "[08:56:22] INFO: ../src/tree/updater_prune.cc:101: tree pruning end, 0 extra nodes, 0 pruned nodes, max_depth=0\n",
      "[08:56:22] INFO: ../src/tree/updater_prune.cc:101: tree pruning end, 0 extra nodes, 0 pruned nodes, max_depth=0\n",
      "[08:56:22] INFO: ../src/tree/updater_prune.cc:101: tree pruning end, 0 extra nodes, 0 pruned nodes, max_depth=0\n",
      "[08:56:22] INFO: ../src/tree/updater_prune.cc:101: tree pruning end, 0 extra nodes, 0 pruned nodes, max_depth=0\n",
      "[08:56:22] INFO: ../src/tree/updater_prune.cc:101: tree pruning end, 0 extra nodes, 0 pruned nodes, max_depth=0\n",
      "[08:56:22] INFO: ../src/tree/updater_prune.cc:101: tree pruning end, 0 extra nodes, 0 pruned nodes, max_depth=0\n",
      "[08:56:22] INFO: ../src/tree/updater_prune.cc:101: tree pruning end, 0 extra nodes, 0 pruned nodes, max_depth=0\n",
      "[08:56:22] INFO: ../src/tree/updater_prune.cc:101: tree pruning end, 0 extra nodes, 0 pruned nodes, max_depth=0\n",
      "[08:56:22] INFO: ../src/tree/updater_prune.cc:101: tree pruning end, 0 extra nodes, 0 pruned nodes, max_depth=0\n",
      "[08:56:22] INFO: ../src/tree/updater_prune.cc:101: tree pruning end, 0 extra nodes, 0 pruned nodes, max_depth=0\n",
      "[08:56:22] INFO: ../src/tree/updater_prune.cc:101: tree pruning end, 0 extra nodes, 0 pruned nodes, max_depth=0\n",
      "[08:56:22] INFO: ../src/tree/updater_prune.cc:101: tree pruning end, 0 extra nodes, 0 pruned nodes, max_depth=0\n",
      "[08:56:22] INFO: ../src/tree/updater_prune.cc:101: tree pruning end, 0 extra nodes, 0 pruned nodes, max_depth=0\n",
      "[08:56:22] INFO: ../src/tree/updater_prune.cc:101: tree pruning end, 0 extra nodes, 0 pruned nodes, max_depth=0\n",
      "[08:56:22] INFO: ../src/tree/updater_prune.cc:101: tree pruning end, 0 extra nodes, 0 pruned nodes, max_depth=0\n",
      "[08:56:22] INFO: ../src/tree/updater_prune.cc:101: tree pruning end, 0 extra nodes, 0 pruned nodes, max_depth=0\n",
      "[08:56:22] INFO: ../src/tree/updater_prune.cc:101: tree pruning end, 0 extra nodes, 0 pruned nodes, max_depth=0\n",
      "[08:56:22] INFO: ../src/tree/updater_prune.cc:101: tree pruning end, 0 extra nodes, 0 pruned nodes, max_depth=0\n",
      "[08:56:22] INFO: ../src/tree/updater_prune.cc:101: tree pruning end, 0 extra nodes, 0 pruned nodes, max_depth=0\n",
      "[08:56:22] INFO: ../src/tree/updater_prune.cc:101: tree pruning end, 0 extra nodes, 0 pruned nodes, max_depth=0\n",
      "[08:56:22] INFO: ../src/tree/updater_prune.cc:101: tree pruning end, 0 extra nodes, 0 pruned nodes, max_depth=0\n",
      "[08:56:22] INFO: ../src/tree/updater_prune.cc:101: tree pruning end, 0 extra nodes, 0 pruned nodes, max_depth=0\n",
      "[08:56:22] INFO: ../src/tree/updater_prune.cc:101: tree pruning end, 0 extra nodes, 0 pruned nodes, max_depth=0\n",
      "[08:56:22] INFO: ../src/tree/updater_prune.cc:101: tree pruning end, 0 extra nodes, 0 pruned nodes, max_depth=0\n",
      "[08:56:22] INFO: ../src/tree/updater_prune.cc:101: tree pruning end, 0 extra nodes, 0 pruned nodes, max_depth=0\n",
      "[08:56:22] INFO: ../src/tree/updater_prune.cc:101: tree pruning end, 0 extra nodes, 0 pruned nodes, max_depth=0\n",
      "[08:56:22] INFO: ../src/tree/updater_prune.cc:101: tree pruning end, 0 extra nodes, 0 pruned nodes, max_depth=0\n",
      "[08:56:22] INFO: ../src/tree/updater_prune.cc:101: tree pruning end, 0 extra nodes, 0 pruned nodes, max_depth=0\n",
      "[08:56:22] INFO: ../src/tree/updater_prune.cc:101: tree pruning end, 0 extra nodes, 0 pruned nodes, max_depth=0\n",
      "[08:56:22] INFO: ../src/tree/updater_prune.cc:101: tree pruning end, 0 extra nodes, 0 pruned nodes, max_depth=0\n",
      "[08:56:22] INFO: ../src/tree/updater_prune.cc:101: tree pruning end, 0 extra nodes, 0 pruned nodes, max_depth=0\n",
      "[08:56:22] INFO: ../src/tree/updater_prune.cc:101: tree pruning end, 0 extra nodes, 0 pruned nodes, max_depth=0\n",
      "[08:56:22] INFO: ../src/tree/updater_prune.cc:101: tree pruning end, 0 extra nodes, 0 pruned nodes, max_depth=0\n",
      "[08:56:22] INFO: ../src/tree/updater_prune.cc:101: tree pruning end, 0 extra nodes, 0 pruned nodes, max_depth=0\n",
      "[08:56:22] INFO: ../src/tree/updater_prune.cc:101: tree pruning end, 0 extra nodes, 0 pruned nodes, max_depth=0\n",
      "[08:56:22] INFO: ../src/tree/updater_prune.cc:101: tree pruning end, 0 extra nodes, 0 pruned nodes, max_depth=0\n",
      "[08:56:22] INFO: ../src/tree/updater_prune.cc:101: tree pruning end, 0 extra nodes, 0 pruned nodes, max_depth=0\n",
      "[08:56:22] INFO: ../src/tree/updater_prune.cc:101: tree pruning end, 0 extra nodes, 0 pruned nodes, max_depth=0\n",
      "[08:56:22] INFO: ../src/tree/updater_prune.cc:101: tree pruning end, 0 extra nodes, 0 pruned nodes, max_depth=0\n",
      "[08:56:22] INFO: ../src/tree/updater_prune.cc:101: tree pruning end, 0 extra nodes, 0 pruned nodes, max_depth=0\n",
      "[08:56:22] INFO: ../src/tree/updater_prune.cc:101: tree pruning end, 0 extra nodes, 0 pruned nodes, max_depth=0\n",
      "[08:56:22] INFO: ../src/tree/updater_prune.cc:101: tree pruning end, 0 extra nodes, 0 pruned nodes, max_depth=0\n",
      "[08:56:22] INFO: ../src/tree/updater_prune.cc:101: tree pruning end, 0 extra nodes, 0 pruned nodes, max_depth=0\n",
      "[08:56:22] ======== Monitor (0): Learner ========\n",
      "[08:56:22] Configure: 1e-06s, 1 calls @ 1us\n",
      "\n",
      "[08:56:22] EvalOneIter: 0.000451s, 100 calls @ 451us\n",
      "\n",
      "[08:56:22] GetGradient: 0.001294s, 100 calls @ 1294us\n",
      "\n",
      "[08:56:22] PredictRaw: 0.018797s, 100 calls @ 18797us\n",
      "\n",
      "[08:56:22] UpdateOneIter: 0.545944s, 100 calls @ 545944us\n",
      "\n",
      "[08:56:22] ======== Monitor (0): GBTree ========\n",
      "[08:56:22] BoostNewTrees: 0.527231s, 100 calls @ 527231us\n",
      "\n",
      "[08:56:22] CommitModel: 0.000167s, 100 calls @ 167us\n",
      "\n",
      "[08:56:22] ======== Monitor (0): TreePruner ========\n",
      "[08:56:22] PrunerUpdate: 0.039529s, 100 calls @ 39529us\n",
      "\n"
     ]
    },
    {
     "data": {
      "text/plain": [
       "XGBRegressor(base_score=0.5, booster='gbtree', colsample_bylevel=1,\n",
       "             colsample_bynode=1, colsample_bytree=1, enable_categorical=False,\n",
       "             gamma=0, gpu_id=-1, importance_type=None,\n",
       "             interaction_constraints='', learning_rate=0.300000012,\n",
       "             max_delta_step=0, max_depth=40, metric='rmse',\n",
       "             min_child_samples=100, min_child_weight=1, missing=nan,\n",
       "             monotone_constraints='()', n_estimators=100, n_jobs=4,\n",
       "             num_parallel_tree=1, predictor='auto', random_state=0, reg_alpha=0,\n",
       "             reg_lambda=1, scale_pos_weight=1, subsample=1, tree_method='exact',\n",
       "             validate_parameters=1, verbosity=3)"
      ]
     },
     "execution_count": 9,
     "metadata": {},
     "output_type": "execute_result"
    }
   ],
   "source": [
    "X = df_train.copy()\n",
    "y = X.pop(\"SalePrice\")\n",
    "log_y = np.log(y)\n",
    "\n",
    "model = XGBRegressor(max_depth=40,\n",
    "                     min_child_samples=100,\n",
    "                     metric='rmse',\n",
    "                     verbosity=3,\n",
    "                     random_state=0)\n",
    "\n",
    "model.fit(X, log_y)"
   ]
  },
  {
   "cell_type": "code",
   "execution_count": 10,
   "id": "28310857",
   "metadata": {
    "execution": {
     "iopub.execute_input": "2022-02-08T08:56:22.896799Z",
     "iopub.status.busy": "2022-02-08T08:56:22.895739Z",
     "iopub.status.idle": "2022-02-08T08:56:22.911383Z",
     "shell.execute_reply": "2022-02-08T08:56:22.912145Z",
     "shell.execute_reply.started": "2022-02-08T08:51:08.105473Z"
    },
    "papermill": {
     "duration": 0.035183,
     "end_time": "2022-02-08T08:56:22.912373",
     "exception": false,
     "start_time": "2022-02-08T08:56:22.877190",
     "status": "completed"
    },
    "tags": []
   },
   "outputs": [],
   "source": [
    "predictions = model.predict(df_test)"
   ]
  },
  {
   "cell_type": "code",
   "execution_count": 11,
   "id": "50df442f",
   "metadata": {
    "execution": {
     "iopub.execute_input": "2022-02-08T08:56:22.947608Z",
     "iopub.status.busy": "2022-02-08T08:56:22.946809Z",
     "iopub.status.idle": "2022-02-08T08:56:22.958416Z",
     "shell.execute_reply": "2022-02-08T08:56:22.957726Z"
    },
    "papermill": {
     "duration": 0.031097,
     "end_time": "2022-02-08T08:56:22.958561",
     "exception": false,
     "start_time": "2022-02-08T08:56:22.927464",
     "status": "completed"
    },
    "tags": []
   },
   "outputs": [
    {
     "name": "stdout",
     "output_type": "stream",
     "text": [
      "Your submission was successfully saved!\n"
     ]
    }
   ],
   "source": [
    "output = pd.DataFrame({'Id': df_test.index, 'SalePrice': predictions})\n",
    "output.to_csv('my_submission.csv', index=False)\n",
    "print(\"Your submission was successfully saved!\")"
   ]
  },
  {
   "cell_type": "code",
   "execution_count": null,
   "id": "72bc4ec1",
   "metadata": {
    "papermill": {
     "duration": 0.013185,
     "end_time": "2022-02-08T08:56:22.985588",
     "exception": false,
     "start_time": "2022-02-08T08:56:22.972403",
     "status": "completed"
    },
    "tags": []
   },
   "outputs": [],
   "source": []
  }
 ],
 "metadata": {
  "kernelspec": {
   "display_name": "Python 3",
   "language": "python",
   "name": "python3"
  },
  "language_info": {
   "codemirror_mode": {
    "name": "ipython",
    "version": 3
   },
   "file_extension": ".py",
   "mimetype": "text/x-python",
   "name": "python",
   "nbconvert_exporter": "python",
   "pygments_lexer": "ipython3",
   "version": "3.7.12"
  },
  "papermill": {
   "default_parameters": {},
   "duration": 15.242037,
   "end_time": "2022-02-08T08:56:23.812216",
   "environment_variables": {},
   "exception": null,
   "input_path": "__notebook__.ipynb",
   "output_path": "__notebook__.ipynb",
   "parameters": {},
   "start_time": "2022-02-08T08:56:08.570179",
   "version": "2.3.3"
  }
 },
 "nbformat": 4,
 "nbformat_minor": 5
}
